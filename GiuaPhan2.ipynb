{
 "cells": [
  {
   "attachments": {},
   "cell_type": "markdown",
   "metadata": {},
   "source": [
    "### PHẦN I: THÔNG TIN SINH VIÊN\n",
    "(sinh viên cần nhập đúng thông tin mã số sinh viên và họ tên (nhập sai sẽ bị trừ điểm))<br>\n",
    "Nhập tên và MSSV vào 02 biến \"student_name\" và \"student_id\" (lưu ý ghi đúng tên biến)<br>\n",
    "Chú ý: Thay giá trị của biến bằng thông tin sinh viên của bạn:<br>\n",
    "student_name = \"Nguyễn Văn A\"<br>\n",
    "student_id = 19001901<br>"
   ]
  },
  {
   "cell_type": "code",
   "execution_count": 3,
   "metadata": {},
   "outputs": [],
   "source": [
    "student_name =\"Nguyễn Văn A\"\n",
    "student_id = \"B20DCVT288\""
   ]
  },
  {
   "attachments": {},
   "cell_type": "markdown",
   "metadata": {},
   "source": [
    "### PHẦN II: TRẮC NGHIỆM\n",
    "\n",
    "- Trả lời câu hỏi bằng cách gắn biến answer bằng thứ tự câu trả lời đúng.<br>\n",
    "Ví dụ:\n",
    "answer=1 (nếu đáp án đúng là a)\n"
   ]
  },
  {
   "attachments": {},
   "cell_type": "markdown",
   "metadata": {},
   "source": [
    "1. Trong Linux, câu lệnh nào dùng để di chuyển giữa các thư mục? <br>a) hop <br>b) shift <br>c) cd <br>d) mv"
   ]
  },
  {
   "cell_type": "code",
   "execution_count": 4,
   "metadata": {},
   "outputs": [],
   "source": [
    "answer=0"
   ]
  },
  {
   "attachments": {},
   "cell_type": "markdown",
   "metadata": {},
   "source": [
    "2. Trong Python, cú pháp nào đúng để comment code? <br>a) /* this is a comment */ <br>b) // this is a comment <br>c) # this is a comment <br>d) -- this is a comment"
   ]
  },
  {
   "cell_type": "code",
   "execution_count": null,
   "metadata": {},
   "outputs": [],
   "source": []
  },
  {
   "attachments": {},
   "cell_type": "markdown",
   "metadata": {},
   "source": [
    "3. Trong LaTeX, câu lệnh \\maketitle dùng để làm gì? <br>a) Tạo tiêu đề cho tài liệu <br>b) Tạo mục lục <br>c) Kết thúc tài liệu <br>d) Thêm footnote"
   ]
  },
  {
   "cell_type": "code",
   "execution_count": null,
   "metadata": {},
   "outputs": [],
   "source": []
  },
  {
   "attachments": {},
   "cell_type": "markdown",
   "metadata": {},
   "source": [
    "4. Để khai báo biến trong shell script, cần dùng ký tự nào? <br>a) & <br>b) $ <br>c) # <br>d) @"
   ]
  },
  {
   "cell_type": "code",
   "execution_count": null,
   "metadata": {},
   "outputs": [],
   "source": []
  },
  {
   "attachments": {},
   "cell_type": "markdown",
   "metadata": {},
   "source": [
    "5. PHP được viết tắt từ cụm từ nào?<br>\n",
    "a) Personal Hypertext Processor <br>b) Private Home Programming <br>c) PHP: Hypertext Preprocessor <br>d) Programming Home Pages"
   ]
  },
  {
   "cell_type": "code",
   "execution_count": null,
   "metadata": {},
   "outputs": [],
   "source": []
  },
  {
   "attachments": {},
   "cell_type": "markdown",
   "metadata": {},
   "source": [
    "6. Thuật toán đệ quy dùng để giải quyết bài toán gì? <br>a) Sắp xếp<br>\n",
    "b) Tìm kiếm nhị phân <br>c) Bài toán có cấu trúc lặp <br>d) Duyệt cây"
   ]
  },
  {
   "cell_type": "code",
   "execution_count": null,
   "metadata": {},
   "outputs": [],
   "source": []
  },
  {
   "attachments": {},
   "cell_type": "markdown",
   "metadata": {},
   "source": [
    "7. Trong Python, dangling else problem là gì? <br>a) Lỗi ngữ pháp trong câu điều kiện lồng nhau <br>b) Lỗi logic trong vòng lặp <br>c) Lỗi kiểu dữ liệu <br>d) Lỗi trong hàm đệ quy"
   ]
  },
  {
   "cell_type": "code",
   "execution_count": null,
   "metadata": {},
   "outputs": [],
   "source": []
  },
  {
   "attachments": {},
   "cell_type": "markdown",
   "metadata": {},
   "source": [
    "8. Viết tên đầy đủ của cấu trúc dữ liệu FIFO?<br>\n",
    "a) First In Last Out <br>b) First In First Out <br>c) First Out Last In<br>\n",
    "d) First Out First In"
   ]
  },
  {
   "cell_type": "code",
   "execution_count": null,
   "metadata": {},
   "outputs": [],
   "source": []
  },
  {
   "attachments": {},
   "cell_type": "markdown",
   "metadata": {},
   "source": [
    "9. Trong LaTeX, lệnh nào add tiêu đề cho bảng? <br>\\a) tabletitle <br>\\b) caption <br>\\c) tbltitle <br>\\d) tablehead"
   ]
  },
  {
   "cell_type": "code",
   "execution_count": null,
   "metadata": {},
   "outputs": [],
   "source": []
  },
  {
   "attachments": {},
   "cell_type": "markdown",
   "metadata": {},
   "source": [
    "10. Lệnh ping trong Linux dùng để làm gì? <br>a) Kiểm tra kết nối internet <br>b) Đóng tất cả cổng mạng\n",
    "c) Mở command prompt <br>d) Hiển thị thông tin phần cứng"
   ]
  },
  {
   "cell_type": "code",
   "execution_count": null,
   "metadata": {},
   "outputs": [],
   "source": []
  },
  {
   "attachments": {},
   "cell_type": "markdown",
   "metadata": {},
   "source": [
    "11. Hệ điều hành nào trong số sau là hệ điều hành mã nguồn mở? <br>a) Windows <br>b) Mac OS <br>c) Linux\n",
    "d) ChromeOS"
   ]
  },
  {
   "cell_type": "code",
   "execution_count": null,
   "metadata": {},
   "outputs": [],
   "source": []
  },
  {
   "attachments": {},
   "cell_type": "markdown",
   "metadata": {},
   "source": [
    "12. Đâu là định dạng file phổ biến cho ảnh chụp màn hình?<br> a) .png <br>b) .jpeg <br>c) .gif <br>d) .tiff"
   ]
  },
  {
   "cell_type": "code",
   "execution_count": null,
   "metadata": {},
   "outputs": [],
   "source": []
  },
  {
   "attachments": {},
   "cell_type": "markdown",
   "metadata": {},
   "source": [
    "13. Trong Linux, lệnh sudo dùng để làm gì?<br>\n",
    "a) Shutdown máy tính <br>b) Restart máy tính <br>c) Chạy lệnh với quyền admin <br>d) Đăng nhập vào tài khoản root"
   ]
  },
  {
   "cell_type": "code",
   "execution_count": null,
   "metadata": {},
   "outputs": [],
   "source": []
  },
  {
   "attachments": {},
   "cell_type": "markdown",
   "metadata": {},
   "source": [
    "14. Trong Python, gói twilio dùng để làm gì?<br> a) Xây dựng ứng dụng mobile<br> b) Gửi tin nhắn SMS tự động<br> c) Phân tích dữ liệu<br> d) Tạo API"
   ]
  },
  {
   "cell_type": "code",
   "execution_count": null,
   "metadata": {},
   "outputs": [],
   "source": []
  },
  {
   "attachments": {},
   "cell_type": "markdown",
   "metadata": {},
   "source": [
    "15. Đâu là tên user mặc định của Linux khi cài đặt?<br>\n",
    "a) admin<br> b) default<br>c) user<br> d) root"
   ]
  },
  {
   "cell_type": "code",
   "execution_count": null,
   "metadata": {},
   "outputs": [],
   "source": []
  },
  {
   "attachments": {},
   "cell_type": "markdown",
   "metadata": {},
   "source": [
    "16. Hàm len() trong Python trả về điều gì?<br>\n",
    "a) Last element trong chuỗi<br>\n",
    "b) Phần tử cuối trong danh sách<br> c) Độ dài chuỗi hoặc danh sách<br> d) Vị trí xuất hiện cuối cùng"
   ]
  },
  {
   "cell_type": "code",
   "execution_count": null,
   "metadata": {},
   "outputs": [],
   "source": []
  },
  {
   "attachments": {},
   "cell_type": "markdown",
   "metadata": {},
   "source": [
    "17. Trong LaTeX, lệnh nào add hình ảnh vào tài liệu?<br> a) \\img<br>\n",
    "b) \\image<br> c) \\includegraphics<br> d) \\addimage<br>"
   ]
  },
  {
   "cell_type": "code",
   "execution_count": null,
   "metadata": {},
   "outputs": [],
   "source": []
  },
  {
   "attachments": {},
   "cell_type": "markdown",
   "metadata": {},
   "source": [
    "18. TLD (top-level domain) là gì?<br> a) Tên miền quốc gia<br> b) Các tên miền cấp cao nhất<br> c) Tên miền quốc tế<br> d) Các tên miền mặc định"
   ]
  },
  {
   "cell_type": "code",
   "execution_count": null,
   "metadata": {},
   "outputs": [],
   "source": []
  },
  {
   "attachments": {},
   "cell_type": "markdown",
   "metadata": {},
   "source": [
    "19. Ngôn ngữ nào không dùng để phát triển web?<br> a) Python<br> b) Java<br> c) C<br> d) Javascript<br>"
   ]
  },
  {
   "cell_type": "code",
   "execution_count": null,
   "metadata": {},
   "outputs": [],
   "source": []
  },
  {
   "attachments": {},
   "cell_type": "markdown",
   "metadata": {},
   "source": [
    "20.Thứ tự độ phức tạp từ cao đến thấp là:<br>\n",
    "a) O(2^n), O(n!), O(n^2), O(nlogn)<br> b) O(n!), O(2^n), O(nlogn), O(n^2)<br>\n",
    "c) O(2^n), O(n!), O(n^2), O(nlogn)<br> d) O(n!), O(2^n), O(n^2), O(nlogn)"
   ]
  },
  {
   "attachments": {},
   "cell_type": "markdown",
   "metadata": {},
   "source": [
    "### PHẦN III: THỰC HÀNH PYTHON"
   ]
  },
  {
   "attachments": {},
   "cell_type": "markdown",
   "metadata": {},
   "source": [
    "Bài 1: Viết các hàm tính<br>\n",
    "a/ Kiểm tra n có phải là số Fibonaci không?<br>\n",
    "b/ In các số Fibonaci từ 1 đến n<br>\n",
    "c/ Tính tổng S= tổng các số Fibonaci từ 2 đến n.<br>\n",
    "Hàm nhập số từ bàn phím để kiểm tra các hàm trên.\n",
    "\n"
   ]
  },
  {
   "attachments": {},
   "cell_type": "markdown",
   "metadata": {},
   "source": []
  },
  {
   "cell_type": "code",
   "execution_count": null,
   "metadata": {},
   "outputs": [],
   "source": []
  },
  {
   "attachments": {},
   "cell_type": "markdown",
   "metadata": {},
   "source": [
    "Bài 2: Viết hàm để:<br>\n",
    "a/ Tìm ước chung lớn nhất của 2 số a và b<br>\n",
    "b/ Tìm bội số chung nhỏ nhất của 2 số a và b<br>\n",
    "Nhập 2 số a,b từ bàn phím để kiểm tra 2 hàm trên.\n",
    "\n"
   ]
  },
  {
   "attachments": {},
   "cell_type": "markdown",
   "metadata": {},
   "source": []
  },
  {
   "cell_type": "code",
   "execution_count": null,
   "metadata": {},
   "outputs": [],
   "source": []
  }
 ],
 "metadata": {
  "kernelspec": {
   "display_name": "Python 3",
   "language": "python",
   "name": "python3"
  },
  "language_info": {
   "codemirror_mode": {
    "name": "ipython",
    "version": 3
   },
   "file_extension": ".py",
   "mimetype": "text/x-python",
   "name": "python",
   "nbconvert_exporter": "python",
   "pygments_lexer": "ipython3",
   "version": "3.11.6"
  },
  "orig_nbformat": 4
 },
 "nbformat": 4,
 "nbformat_minor": 2
}
